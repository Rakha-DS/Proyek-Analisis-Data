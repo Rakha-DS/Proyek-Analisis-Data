{
  "cells": [
    {
      "cell_type": "markdown",
      "metadata": {
        "id": "H9wADwK78DCz"
      },
      "source": [
        "# Proyek Analisis Data: Bike Sharing Dataset\n",
        "- **Nama:** Rakha Darmawan Subarkah\n",
        "- **Email:** rasubarkah@student.ub.ac.id\n",
        "- **ID Dicoding:** rakhads"
      ]
    },
    {
      "cell_type": "markdown",
      "metadata": {
        "id": "eE0raob58DC0"
      },
      "source": [
        "## Menentukan Pertanyaan Bisnis"
      ]
    },
    {
      "cell_type": "markdown",
      "metadata": {
        "id": "GmQeQ5YF8DC0"
      },
      "source": [
        "- Is there a correlation between the weather situation and bike rental demand?\n",
        "- At what day of the week does the rental hit it's peak number of customers?"
      ]
    },
    {
      "cell_type": "markdown",
      "metadata": {
        "id": "H-z4QGlO8DC1"
      },
      "source": [
        "## Import Semua Packages/Library yang Digunakan"
      ]
    },
    {
      "cell_type": "code",
      "execution_count": 21,
      "metadata": {
        "id": "FVYwaObI8DC1"
      },
      "outputs": [],
      "source": [
        "import pandas as pd\n",
        "import matplotlib.pyplot as plt\n",
        "import seaborn as sns"
      ]
    },
    {
      "cell_type": "markdown",
      "metadata": {
        "id": "h_Sh51Xy8DC1"
      },
      "source": [
        "## Data Wrangling"
      ]
    },
    {
      "cell_type": "markdown",
      "metadata": {
        "id": "sXU2GBYu8DC1"
      },
      "source": [
        "### Gathering Data"
      ]
    },
    {
      "cell_type": "code",
      "execution_count": 22,
      "metadata": {
        "id": "zjCBk1BI8DC1"
      },
      "outputs": [],
      "source": [
        "dtLink = lambda x : f\"https://raw.githubusercontent.com/Rakha-DS/Proyek-Analisis-Data/main/Data/{x}.csv\"\n",
        "\n",
        "day_df = pd.read_csv(dtLink(\"day\"))\n",
        "hour_df = pd.read_csv(dtLink(\"hour\"))"
      ]
    },
    {
      "cell_type": "markdown",
      "metadata": {
        "id": "FHSiqaZp8DC1"
      },
      "source": [
        "### Assessing Data"
      ]
    },
    {
      "cell_type": "code",
      "source": [
        "day_df.info()\n",
        "hour_df.info()\n",
        "#Data lengkap tanpa ada missing values tapi tipe data dteday menggunakan object bukan datetime\n",
        "print(\"Jumlah duplikasii data pada day.csv : \", day_df.duplicated().sum())\n",
        "print(\"Jumlah duplikasii data pada hour.csv : \", hour_df.duplicated().sum())\n",
        "#Data tidak derdapat duplikat value\n",
        "print(day_df.describe())\n",
        "print(hour_df.describe())"
      ],
      "metadata": {
        "id": "ax-3tEjc9Cj1",
        "colab": {
          "base_uri": "https://localhost:8080/"
        },
        "outputId": "2a2e0823-1a58-4c1b-a110-dec9274308de"
      },
      "execution_count": 23,
      "outputs": [
        {
          "output_type": "stream",
          "name": "stdout",
          "text": [
            "<class 'pandas.core.frame.DataFrame'>\n",
            "RangeIndex: 731 entries, 0 to 730\n",
            "Data columns (total 16 columns):\n",
            " #   Column      Non-Null Count  Dtype  \n",
            "---  ------      --------------  -----  \n",
            " 0   instant     731 non-null    int64  \n",
            " 1   dteday      731 non-null    object \n",
            " 2   season      731 non-null    int64  \n",
            " 3   yr          731 non-null    int64  \n",
            " 4   mnth        731 non-null    int64  \n",
            " 5   holiday     731 non-null    int64  \n",
            " 6   weekday     731 non-null    int64  \n",
            " 7   workingday  731 non-null    int64  \n",
            " 8   weathersit  731 non-null    int64  \n",
            " 9   temp        731 non-null    float64\n",
            " 10  atemp       731 non-null    float64\n",
            " 11  hum         731 non-null    float64\n",
            " 12  windspeed   731 non-null    float64\n",
            " 13  casual      731 non-null    int64  \n",
            " 14  registered  731 non-null    int64  \n",
            " 15  cnt         731 non-null    int64  \n",
            "dtypes: float64(4), int64(11), object(1)\n",
            "memory usage: 91.5+ KB\n",
            "<class 'pandas.core.frame.DataFrame'>\n",
            "RangeIndex: 17379 entries, 0 to 17378\n",
            "Data columns (total 17 columns):\n",
            " #   Column      Non-Null Count  Dtype  \n",
            "---  ------      --------------  -----  \n",
            " 0   instant     17379 non-null  int64  \n",
            " 1   dteday      17379 non-null  object \n",
            " 2   season      17379 non-null  int64  \n",
            " 3   yr          17379 non-null  int64  \n",
            " 4   mnth        17379 non-null  int64  \n",
            " 5   hr          17379 non-null  int64  \n",
            " 6   holiday     17379 non-null  int64  \n",
            " 7   weekday     17379 non-null  int64  \n",
            " 8   workingday  17379 non-null  int64  \n",
            " 9   weathersit  17379 non-null  int64  \n",
            " 10  temp        17379 non-null  float64\n",
            " 11  atemp       17379 non-null  float64\n",
            " 12  hum         17379 non-null  float64\n",
            " 13  windspeed   17379 non-null  float64\n",
            " 14  casual      17379 non-null  int64  \n",
            " 15  registered  17379 non-null  int64  \n",
            " 16  cnt         17379 non-null  int64  \n",
            "dtypes: float64(4), int64(12), object(1)\n",
            "memory usage: 2.3+ MB\n",
            "Jumlah duplikasii data pada day.csv :  0\n",
            "Jumlah duplikasii data pada hour.csv :  0\n",
            "          instant      season          yr        mnth     holiday     weekday  \\\n",
            "count  731.000000  731.000000  731.000000  731.000000  731.000000  731.000000   \n",
            "mean   366.000000    2.496580    0.500684    6.519836    0.028728    2.997264   \n",
            "std    211.165812    1.110807    0.500342    3.451913    0.167155    2.004787   \n",
            "min      1.000000    1.000000    0.000000    1.000000    0.000000    0.000000   \n",
            "25%    183.500000    2.000000    0.000000    4.000000    0.000000    1.000000   \n",
            "50%    366.000000    3.000000    1.000000    7.000000    0.000000    3.000000   \n",
            "75%    548.500000    3.000000    1.000000   10.000000    0.000000    5.000000   \n",
            "max    731.000000    4.000000    1.000000   12.000000    1.000000    6.000000   \n",
            "\n",
            "       workingday  weathersit        temp       atemp         hum   windspeed  \\\n",
            "count  731.000000  731.000000  731.000000  731.000000  731.000000  731.000000   \n",
            "mean     0.683995    1.395349    0.495385    0.474354    0.627894    0.190486   \n",
            "std      0.465233    0.544894    0.183051    0.162961    0.142429    0.077498   \n",
            "min      0.000000    1.000000    0.059130    0.079070    0.000000    0.022392   \n",
            "25%      0.000000    1.000000    0.337083    0.337842    0.520000    0.134950   \n",
            "50%      1.000000    1.000000    0.498333    0.486733    0.626667    0.180975   \n",
            "75%      1.000000    2.000000    0.655417    0.608602    0.730209    0.233214   \n",
            "max      1.000000    3.000000    0.861667    0.840896    0.972500    0.507463   \n",
            "\n",
            "            casual   registered          cnt  \n",
            "count   731.000000   731.000000   731.000000  \n",
            "mean    848.176471  3656.172367  4504.348837  \n",
            "std     686.622488  1560.256377  1937.211452  \n",
            "min       2.000000    20.000000    22.000000  \n",
            "25%     315.500000  2497.000000  3152.000000  \n",
            "50%     713.000000  3662.000000  4548.000000  \n",
            "75%    1096.000000  4776.500000  5956.000000  \n",
            "max    3410.000000  6946.000000  8714.000000  \n",
            "          instant        season            yr          mnth            hr  \\\n",
            "count  17379.0000  17379.000000  17379.000000  17379.000000  17379.000000   \n",
            "mean    8690.0000      2.501640      0.502561      6.537775     11.546752   \n",
            "std     5017.0295      1.106918      0.500008      3.438776      6.914405   \n",
            "min        1.0000      1.000000      0.000000      1.000000      0.000000   \n",
            "25%     4345.5000      2.000000      0.000000      4.000000      6.000000   \n",
            "50%     8690.0000      3.000000      1.000000      7.000000     12.000000   \n",
            "75%    13034.5000      3.000000      1.000000     10.000000     18.000000   \n",
            "max    17379.0000      4.000000      1.000000     12.000000     23.000000   \n",
            "\n",
            "            holiday       weekday    workingday    weathersit          temp  \\\n",
            "count  17379.000000  17379.000000  17379.000000  17379.000000  17379.000000   \n",
            "mean       0.028770      3.003683      0.682721      1.425283      0.496987   \n",
            "std        0.167165      2.005771      0.465431      0.639357      0.192556   \n",
            "min        0.000000      0.000000      0.000000      1.000000      0.020000   \n",
            "25%        0.000000      1.000000      0.000000      1.000000      0.340000   \n",
            "50%        0.000000      3.000000      1.000000      1.000000      0.500000   \n",
            "75%        0.000000      5.000000      1.000000      2.000000      0.660000   \n",
            "max        1.000000      6.000000      1.000000      4.000000      1.000000   \n",
            "\n",
            "              atemp           hum     windspeed        casual    registered  \\\n",
            "count  17379.000000  17379.000000  17379.000000  17379.000000  17379.000000   \n",
            "mean       0.475775      0.627229      0.190098     35.676218    153.786869   \n",
            "std        0.171850      0.192930      0.122340     49.305030    151.357286   \n",
            "min        0.000000      0.000000      0.000000      0.000000      0.000000   \n",
            "25%        0.333300      0.480000      0.104500      4.000000     34.000000   \n",
            "50%        0.484800      0.630000      0.194000     17.000000    115.000000   \n",
            "75%        0.621200      0.780000      0.253700     48.000000    220.000000   \n",
            "max        1.000000      1.000000      0.850700    367.000000    886.000000   \n",
            "\n",
            "                cnt  \n",
            "count  17379.000000  \n",
            "mean     189.463088  \n",
            "std      181.387599  \n",
            "min        1.000000  \n",
            "25%       40.000000  \n",
            "50%      142.000000  \n",
            "75%      281.000000  \n",
            "max      977.000000  \n"
          ]
        }
      ]
    },
    {
      "cell_type": "markdown",
      "metadata": {
        "id": "EhN5R4hr8DC1"
      },
      "source": [
        "### Cleaning Data"
      ]
    },
    {
      "cell_type": "code",
      "source": [
        "#Mengubah tipe data yang digunakan dteday menjadi datetime\n",
        "dteday_columns = [\"dteday\"]\n",
        "for column in dteday_columns:\n",
        "    day_df[column] = pd.to_datetime(day_df[column])\n",
        "    hour_df[column] = pd.to_datetime(hour_df[column])"
      ],
      "metadata": {
        "id": "jVnYpprE9Evz"
      },
      "execution_count": 24,
      "outputs": []
    },
    {
      "cell_type": "markdown",
      "metadata": {
        "id": "gp-Y6wU38DC1"
      },
      "source": [
        "## Exploratory Data Analysis (EDA)"
      ]
    },
    {
      "cell_type": "markdown",
      "metadata": {
        "id": "MW7WF2kr8DC1"
      },
      "source": [
        "### Explore ..."
      ]
    },
    {
      "cell_type": "code",
      "execution_count": 25,
      "metadata": {
        "id": "e9CQCZjk8DC2"
      },
      "outputs": [],
      "source": [
        "#Menambahkan label untuk data weathersit dan weekday\n",
        "weatherSitch = {\n",
        "    1: 'Clear',\n",
        "    2: 'Misty',\n",
        "    3: 'Light snow/rain',\n",
        "    4: 'Heavy rain/storm'\n",
        "}\n",
        "day_df['weatherSitch'] = day_df['weathersit'].map(weatherSitch)\n",
        "numToDay = {\n",
        "    0: 'Monday',\n",
        "    1: 'Tuesday',\n",
        "    2: 'Wednesday',\n",
        "    3: 'Thursday',\n",
        "    4: 'Friday',\n",
        "    5: 'Saturday',\n",
        "    6: 'Sunday'\n",
        "}"
      ]
    },
    {
      "cell_type": "markdown",
      "metadata": {
        "id": "zsyZjqak8DC2"
      },
      "source": [
        "## Visualization & Explanatory Analysis"
      ]
    },
    {
      "cell_type": "markdown",
      "metadata": {
        "id": "HZxOiQ6n8DC2"
      },
      "source": [
        "### Pertanyaan 1:"
      ]
    },
    {
      "cell_type": "code",
      "execution_count": 26,
      "metadata": {
        "id": "1swJUdAD8DC2",
        "colab": {
          "base_uri": "https://localhost:8080/",
          "height": 581
        },
        "outputId": "7eebd43f-c8a2-4d33-fa93-6bd526b87e3a"
      },
      "outputs": [
        {
          "output_type": "stream",
          "name": "stdout",
          "text": [
            "The correlation value between the weather and bike rental count is -0.297: \n"
          ]
        },
        {
          "output_type": "display_data",
          "data": {
            "text/plain": [
              "<Figure size 1000x600 with 1 Axes>"
            ],
            "image/png": "[encoded data removed]"
          },
          "metadata": {}
        }
      ],
      "source": [
        "#Pertanyaan 1\n",
        "weatherRental = day_df.groupby('weatherSitch')['cnt'].mean().reset_index().sort_values(\"cnt\")\n",
        "weatherCorr = day_df['weathersit'].corr(day_df['cnt'])\n",
        "print(\"The correlation value between the weather and bike rental count is {:.3f}: \".format(weatherCorr))\n",
        "plt.figure(figsize=(10,6))\n",
        "sns.barplot(x='cnt', y='weatherSitch', data=weatherRental)\n",
        "plt.xlabel('Average number of rentals')\n",
        "plt.ylabel('Weather situation')\n",
        "plt.title('Effect of weather to the number of bike rentals')\n",
        "plt.show()"
      ]
    },
    {
      "cell_type": "markdown",
      "source": [
        "Karena nilai korelasi antara weathersit dan cnt menghasilkan nilai negatif sehingga dapat dilihat pada graph bahwa semakin parah cuaca semakin sedikit jumlah rental sepeda"
      ],
      "metadata": {
        "id": "Ypa-ZDqjG41z"
      }
    },
    {
      "cell_type": "markdown",
      "metadata": {
        "id": "DgHI7CiU8DC2"
      },
      "source": [
        "### Pertanyaan 2:"
      ]
    },
    {
      "cell_type": "code",
      "execution_count": 27,
      "metadata": {
        "id": "Go0lCsvO8DC2",
        "colab": {
          "base_uri": "https://localhost:8080/",
          "height": 472
        },
        "outputId": "8ef4a90d-d2c4-4d38-fdf9-c34a4668e70e"
      },
      "outputs": [
        {
          "output_type": "display_data",
          "data": {
            "text/plain": [
              "<Figure size 640x480 with 1 Axes>"
            ],
            "image/png": "[encoded data removed]"
          },
          "metadata": {}
        }
      ],
      "source": [
        "#Pertanyaan 2\n",
        "avgRentalByDay = day_df.groupby(day_df['dteday'].dt.day_of_week)['cnt'].mean()\n",
        "plt.bar(avgRentalByDay.index.map(numToDay), avgRentalByDay.values)\n",
        "plt.xlabel('Day of the week')\n",
        "plt.ylabel('Average number of rentals')\n",
        "plt.title('Average number of rentals by Day of the week')\n",
        "plt.show()"
      ]
    },
    {
      "cell_type": "markdown",
      "source": [
        "Terlihat bahwa rental sepeda mendapatkan puncak rental pada hari jumat dan jumlah rental paling rendah terdapat pada hari minggu"
      ],
      "metadata": {
        "id": "TRuK01x77k7T"
      }
    },
    {
      "cell_type": "markdown",
      "metadata": {
        "id": "_WeHlCeX8DC2"
      },
      "source": [
        "## Conclusion"
      ]
    },
    {
      "cell_type": "markdown",
      "metadata": {
        "id": "ZTcyR48Y8DC2"
      },
      "source": [
        "- Conclusion pertanyaan 1\n",
        "Terdapat korelasi negatif antara situasi cuaca dengan jumlah rental sepeda sehingga terlihat bahwa rental sepeda terjadi paling banyak pada cuaca \"Clear\" dan paling sedikit saat \"Light snow/rain\"\n",
        "- Conclusion pertanyaan 2\n",
        "Rata-rata rental sepeda paling banyak terjadi pada hari jumat sedangkan jumlah rental rata-rata paling sedikit terjadi pada hari minggu"
      ]
    }
  ],
  "metadata": {
    "kernelspec": {
      "display_name": "Python 3",
      "language": "python",
      "name": "python3"
    },
    "language_info": {
      "name": "python",
      "version": "3.8.0 (tags/v3.8.0:fa919fd, Oct 14 2019, 19:21:23) [MSC v.1916 32 bit (Intel)]"
    },
    "orig_nbformat": 4,
    "vscode": {
      "interpreter": {
        "hash": "972b3bf27e332e87b5379f2791f6ef9dfc79c71018c370b0d7423235e20fe4d7"
      }
    },
    "colab": {
      "provenance": []
    }
  },
  "nbformat": 4,
  "nbformat_minor": 0
}